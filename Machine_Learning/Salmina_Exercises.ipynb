{
 "cells": [
  {
   "cell_type": "markdown",
   "metadata": {},
   "source": [
    "**Machine Learning exercises**"
   ]
  },
  {
   "cell_type": "markdown",
   "metadata": {},
   "source": [
    "**1 Odd Or Even**  \n",
    "Ask the user for a number and read it in. Depending on whether the number is even or odd, print out\n",
    "an appropriate message to the user. Hint: how does an even / odd number react differently when\n",
    "divided by 2?\n",
    "The program should repeat asking for numbers and stop if a user types any non number (e.g. a\n",
    "character).\n",
    "Compulsory extras:\n",
    "1. If the number is a multiple of 4, print out a different message.\n",
    "2. Ask the user for two numbers: one number to check (call it num) and one number to divide\n",
    "by (check). If check divides evenly into num, tell that to the user. If not, print a different\n",
    "appropriate message."
   ]
  },
  {
   "cell_type": "code",
   "execution_count": 15,
   "metadata": {},
   "outputs": [
    {
     "name": "stdin",
     "output_type": "stream",
     "text": [
      "type in a number: 36\n"
     ]
    },
    {
     "name": "stdout",
     "output_type": "stream",
     "text": [
      "36 is a multiple of 4!\n"
     ]
    },
    {
     "name": "stdin",
     "output_type": "stream",
     "text": [
      "type in a number: g\n"
     ]
    },
    {
     "ename": "ValueError",
     "evalue": "invalid literal for int() with base 10: 'g'",
     "output_type": "error",
     "traceback": [
      "\u001b[0;31m---------------------------------------------------------------------------\u001b[0m",
      "\u001b[0;31mValueError\u001b[0m                                Traceback (most recent call last)",
      "\u001b[0;32m<ipython-input-15-f4323e92b20f>\u001b[0m in \u001b[0;36m<module>\u001b[0;34m\u001b[0m\n\u001b[1;32m      1\u001b[0m \u001b[0;32mwhile\u001b[0m \u001b[0ma\u001b[0m \u001b[0;34m!=\u001b[0m \u001b[0mtype\u001b[0m\u001b[0;34m(\u001b[0m\u001b[0;34m'a'\u001b[0m\u001b[0;34m)\u001b[0m\u001b[0;34m:\u001b[0m\u001b[0;34m\u001b[0m\u001b[0;34m\u001b[0m\u001b[0m\n\u001b[0;32m----> 2\u001b[0;31m     \u001b[0ma\u001b[0m \u001b[0;34m=\u001b[0m \u001b[0mint\u001b[0m\u001b[0;34m(\u001b[0m\u001b[0minput\u001b[0m\u001b[0;34m(\u001b[0m\u001b[0;34m\"type in a number:\"\u001b[0m\u001b[0;34m)\u001b[0m\u001b[0;34m)\u001b[0m\u001b[0;34m\u001b[0m\u001b[0;34m\u001b[0m\u001b[0m\n\u001b[0m\u001b[1;32m      3\u001b[0m \u001b[0;34m\u001b[0m\u001b[0m\n\u001b[1;32m      4\u001b[0m     \u001b[0;32mif\u001b[0m \u001b[0ma\u001b[0m\u001b[0;34m%\u001b[0m\u001b[0;36m4\u001b[0m\u001b[0;34m==\u001b[0m\u001b[0;36m0\u001b[0m\u001b[0;34m:\u001b[0m\u001b[0;34m\u001b[0m\u001b[0;34m\u001b[0m\u001b[0m\n\u001b[1;32m      5\u001b[0m         \u001b[0mprint\u001b[0m\u001b[0;34m(\u001b[0m\u001b[0ma\u001b[0m\u001b[0;34m,\u001b[0m \u001b[0;34m\"is a multiple of 4!\"\u001b[0m\u001b[0;34m)\u001b[0m\u001b[0;34m\u001b[0m\u001b[0;34m\u001b[0m\u001b[0m\n",
      "\u001b[0;31mValueError\u001b[0m: invalid literal for int() with base 10: 'g'"
     ]
    }
   ],
   "source": [
    "while a != type('a'):\n",
    "    a = int(input(\"type in a number:\"))\n",
    "\n",
    "    if a%4==0:\n",
    "        print(a, \"is a multiple of 4!\")\n",
    "    elif a%2==0:\n",
    "        print(a, \"is even!\")\n",
    "    else:\n",
    "        print(a, \"is odd!\")"
   ]
  },
  {
   "cell_type": "code",
   "execution_count": 2,
   "metadata": {},
   "outputs": [
    {
     "name": "stdin",
     "output_type": "stream",
     "text": [
      "type in the first number: 36\n",
      "type in the second number: 4\n"
     ]
    },
    {
     "name": "stdout",
     "output_type": "stream",
     "text": [
      "36 CAN be evenly divided by 4\n"
     ]
    }
   ],
   "source": [
    "a = int(input(\"type in the first number:\"))\n",
    "b = int(input(\"type in the second number:\"))\n",
    "\n",
    "if a%b == 0:\n",
    "    print(a, \"CAN be evenly divided by\", b)\n",
    "else:\n",
    "    print(a, \"CANNOT be evenly divided by\", b)"
   ]
  },
  {
   "cell_type": "markdown",
   "metadata": {},
   "source": [
    "**2 List Comprehensions**  \n",
    "Let’s say I give you a list saved in a variable: a = [1, 4, 9, 16, 25, 36, 49, 64,\n",
    "81, 100]. Write one line of Python that takes this list a and makes a new list that has only the\n",
    "even elements of this list in it. Print the resulting list.\n",
    "Compulsory extra:\n",
    "1. For the following years_of_birth = [1990, 1991, 1990, 1990, 1992, 1991]\n",
    "calculate and print the approximate age (ignoring the month of birth) of\n",
    "all people born in the respective years. Automate your calculation by\n",
    "obtaining the year of the current system date with a function call."
   ]
  },
  {
   "cell_type": "code",
   "execution_count": 3,
   "metadata": {},
   "outputs": [
    {
     "name": "stdout",
     "output_type": "stream",
     "text": [
      "[4, 16, 36, 64, 100]\n"
     ]
    }
   ],
   "source": [
    "\n",
    "a = [1, 4, 9, 16, 25, 36, 49, 64, 81, 100]\n",
    "\n",
    "l = [i for i in a if i % 2 == 0]\n",
    "print(l)"
   ]
  },
  {
   "cell_type": "code",
   "execution_count": 4,
   "metadata": {},
   "outputs": [
    {
     "name": "stdout",
     "output_type": "stream",
     "text": [
      "[29, 28, 29, 29, 27, 28]\n"
     ]
    }
   ],
   "source": [
    "#1\n",
    "from datetime import datetime\n",
    "\n",
    "years_of_birth = [1990, 1991, 1990, 1990, 1992, 1991]\n",
    "\n",
    "age = [datetime.now().year-i for i in years_of_birth]\n",
    "print(age)"
   ]
  },
  {
   "cell_type": "markdown",
   "metadata": {},
   "source": [
    "**3 Unique entries in a list**  \n",
    "Implement a function which converts a list to a list of unique entries. Test this function using\n",
    "list1=[11,1,12,2,9,1,13,12,2,4,6] and list2=[‘Zita’, ‘Anna’, ‘Cornelia’, ‘Anton’, ‘Joseph’, ‘Anna’,\n",
    "‘Maria’, ‘Anton’, ‘Cornelia’]"
   ]
  },
  {
   "cell_type": "code",
   "execution_count": 38,
   "metadata": {},
   "outputs": [
    {
     "name": "stdout",
     "output_type": "stream",
     "text": [
      "[1, 2, 4, 6, 9, 11, 12, 13]\n",
      "['Zita', 'Cornelia', 'Joseph', 'Maria', 'Anna', 'Anton']\n",
      "[11, 1, 12, 2, 9, 13, 4, 6]\n",
      "['Zita', 'Anna', 'Cornelia', 'Anton', 'Joseph', 'Maria']\n"
     ]
    }
   ],
   "source": [
    "list1 = [11, 1, 12, 2, 9, 1, 13, 12, 2, 4, 6]\n",
    "list2 = ['Zita', 'Anna', 'Cornelia', 'Anton', 'Joseph', 'Anna', 'Maria', 'Anton', 'Cornelia']\n",
    "\n",
    "def unique_entries(x):\n",
    "    \"\"\"takes a list and returns the list with only unique entries\"\"\"\n",
    "    y = list(set(x))\n",
    "    print(y)\n",
    "#oder\n",
    "def uni_ent(x):\n",
    "    d = []\n",
    "    u = [i for i in x if i not in d and (d.append(i) or True)]\n",
    "    #u = reduce(lambda l, x: l.append(x) or l if x not in l else l, mylist, [])\n",
    "    print(u)\n",
    "\n",
    "unique_entries(list1)\n",
    "unique_entries(list2)\n",
    "uni_ent(list1)\n",
    "uni_ent(list2)"
   ]
  },
  {
   "cell_type": "markdown",
   "metadata": {},
   "source": [
    "**4 Check whether a number is prime**\n",
    "1. Implement a function which does the prime number calculation. To complete this part, you\n",
    "have to research how Python handles integer division. You should definitely consider\n",
    "efficiency and minimize the number of divisions you need to do, to test whether a number is\n",
    "prime.\n",
    "2. Test that function on a list from 1 to 1000, that is determine all prime numbers in that range.\n",
    "3. Write a nice wrapper which asks the user for a number, then reports the “primeness” of that\n",
    "number and allows for repetitive tests until the user enters for example a character."
   ]
  },
  {
   "cell_type": "code",
   "execution_count": 69,
   "metadata": {},
   "outputs": [],
   "source": [
    "#1\n",
    "def prime_number(x):\n",
    "    isPrime = True\n",
    "    for y in range(2, x):\n",
    "        if (x % y) == 0:\n",
    "            isPrime = False\n",
    "            print(x, \"is not a prime number!\")\n",
    "            break\n",
    "    if isPrime:\n",
    "        print(x, \"is a prime number!\")"
   ]
  },
  {
   "cell_type": "code",
   "execution_count": 70,
   "metadata": {},
   "outputs": [
    {
     "name": "stdout",
     "output_type": "stream",
     "text": [
      "7 is a prime number!\n"
     ]
    }
   ],
   "source": [
    "prime_number(7)"
   ]
  },
  {
   "cell_type": "code",
   "execution_count": 35,
   "metadata": {},
   "outputs": [
    {
     "name": "stdout",
     "output_type": "stream",
     "text": [
      "[2, 3, 5, 7, 11, 13, 17, 19, 23, 29, 31, 37, 41, 43, 47, 53, 59, 61, 67, 71, 73, 79, 83, 89, 97, 101, 103, 107, 109, 113, 127, 131, 137, 139, 149, 151, 157, 163, 167, 173, 179, 181, 191, 193, 197, 199, 211, 223, 227, 229, 233, 239, 241, 251, 257, 263, 269, 271, 277, 281, 283, 293, 307, 311, 313, 317, 331, 337, 347, 349, 353, 359, 367, 373, 379, 383, 389, 397, 401, 409, 419, 421, 431, 433, 439, 443, 449, 457, 461, 463, 467, 479, 487, 491, 499, 503, 509, 521, 523, 541, 547, 557, 563, 569, 571, 577, 587, 593, 599, 601, 607, 613, 617, 619, 631, 641, 643, 647, 653, 659, 661, 673, 677, 683, 691, 701, 709, 719, 727, 733, 739, 743, 751, 757, 761, 769, 773, 787, 797, 809, 811, 821, 823, 827, 829, 839, 853, 857, 859, 863, 877, 881, 883, 887, 907, 911, 919, 929, 937, 941, 947, 953, 967, 971, 977, 983, 991, 997]\n"
     ]
    }
   ],
   "source": [
    "#2\n",
    "primes = []\n",
    "for possiblePrime in range(2, 1000): \n",
    "    isPrime = True\n",
    "    for num in range(2, possiblePrime):\n",
    "        if possiblePrime % num == 0:\n",
    "            isPrime = False\n",
    "            break\n",
    "    if isPrime:\n",
    "        primes.append(possiblePrime)\n",
    "\n",
    "print(primes)"
   ]
  },
  {
   "cell_type": "code",
   "execution_count": 5,
   "metadata": {},
   "outputs": [
    {
     "name": "stdout",
     "output_type": "stream",
     "text": [
      "[1, 2, 3, 5, 7, 11, 13, 17, 19, 23, 29, 31, 37, 41, 43, 47, 53, 59, 61, 67, 71, 73, 79, 83, 89, 97, 101, 103, 107, 109, 113, 127, 131, 137, 139, 149, 151, 157, 163, 167, 173, 179, 181, 191, 193, 197, 199, 211, 223, 227, 229, 233, 239, 241, 251, 257, 263, 269, 271, 277, 281, 283, 293, 307, 311, 313, 317, 331, 337, 347, 349, 353, 359, 367, 373, 379, 383, 389, 397, 401, 409, 419, 421, 431, 433, 439, 443, 449, 457, 461, 463, 467, 479, 487, 491, 499, 503, 509, 521, 523, 541, 547, 557, 563, 569, 571, 577, 587, 593, 599, 601, 607, 613, 617, 619, 631, 641, 643, 647, 653, 659, 661, 673, 677, 683, 691, 701, 709, 719, 727, 733, 739, 743, 751, 757, 761, 769, 773, 787, 797, 809, 811, 821, 823, 827, 829, 839, 853, 857, 859, 863, 877, 881, 883, 887, 907, 911, 919, 929, 937, 941, 947, 953, 967, 971, 977, 983, 991, 997]\n"
     ]
    }
   ],
   "source": [
    "#oder\n",
    "def approach2(givenNumber): \n",
    "    primes = []\n",
    "    for possiblePrime in range(2, givenNumber + 1):\n",
    "        # Assume number is prime until shown it is not. \n",
    "        isPrime = True\n",
    "        for num in range(2, int(possiblePrime ** 0.5) + 1):\n",
    "            if possiblePrime % num == 0:\n",
    "                isPrime = False\n",
    "                break\n",
    "        if isPrime:\n",
    "            primes.append(possiblePrime) \n",
    "    return(primes)\n",
    "\n",
    "print(primes)"
   ]
  },
  {
   "cell_type": "code",
   "execution_count": 6,
   "metadata": {},
   "outputs": [
    {
     "data": {
      "text/plain": [
       "[2, 3, 5, 7, 11, 13]"
      ]
     },
     "execution_count": 6,
     "metadata": {},
     "output_type": "execute_result"
    }
   ],
   "source": [
    "approach2(16)"
   ]
  },
  {
   "cell_type": "code",
   "execution_count": 73,
   "metadata": {},
   "outputs": [
    {
     "name": "stdin",
     "output_type": "stream",
     "text": [
      "type in a number: l\n"
     ]
    },
    {
     "ename": "ValueError",
     "evalue": "invalid literal for int() with base 10: 'l'",
     "output_type": "error",
     "traceback": [
      "\u001b[0;31m---------------------------------------------------------------------------\u001b[0m",
      "\u001b[0;31mValueError\u001b[0m                                Traceback (most recent call last)",
      "\u001b[0;32m<ipython-input-73-99910e098adf>\u001b[0m in \u001b[0;36m<module>\u001b[0;34m\u001b[0m\n\u001b[1;32m      1\u001b[0m \u001b[0;31m#3\u001b[0m\u001b[0;34m\u001b[0m\u001b[0;34m\u001b[0m\u001b[0;34m\u001b[0m\u001b[0m\n\u001b[1;32m      2\u001b[0m \u001b[0;32mwhile\u001b[0m \u001b[0ma\u001b[0m \u001b[0;34m!=\u001b[0m \u001b[0mtype\u001b[0m\u001b[0;34m(\u001b[0m\u001b[0;34m'a'\u001b[0m\u001b[0;34m)\u001b[0m\u001b[0;34m:\u001b[0m\u001b[0;34m\u001b[0m\u001b[0;34m\u001b[0m\u001b[0m\n\u001b[0;32m----> 3\u001b[0;31m     \u001b[0ma\u001b[0m \u001b[0;34m=\u001b[0m \u001b[0mint\u001b[0m\u001b[0;34m(\u001b[0m\u001b[0minput\u001b[0m\u001b[0;34m(\u001b[0m\u001b[0;34m\"type in a number:\"\u001b[0m\u001b[0;34m)\u001b[0m\u001b[0;34m)\u001b[0m\u001b[0;34m\u001b[0m\u001b[0;34m\u001b[0m\u001b[0m\n\u001b[0m\u001b[1;32m      4\u001b[0m     \u001b[0mprime_number\u001b[0m\u001b[0;34m(\u001b[0m\u001b[0ma\u001b[0m\u001b[0;34m)\u001b[0m\u001b[0;34m\u001b[0m\u001b[0;34m\u001b[0m\u001b[0m\n",
      "\u001b[0;31mValueError\u001b[0m: invalid literal for int() with base 10: 'l'"
     ]
    }
   ],
   "source": [
    "#3\n",
    "while a != type('a'):\n",
    "    a = int(input(\"type in a number:\"))\n",
    "    prime_number(a)"
   ]
  },
  {
   "cell_type": "markdown",
   "metadata": {},
   "source": [
    "**5 Reverse the order of words in a string**\n",
    "1. Implement a function which accepts a string as argument and returns a string with word\n",
    "order reversed.\n",
    "2. Test that function on the string “I love Perl for being an acronym for Pathologically Eclectic\n",
    "Rubbish Lister”.\n",
    "3. Write a nice wrapper which asks the user for a string, then prints the string with word order\n",
    "reversed and allows for repetitive executions until the user enters a designated stop code."
   ]
  },
  {
   "cell_type": "code",
   "execution_count": 95,
   "metadata": {},
   "outputs": [],
   "source": [
    "s = \"I love Perl for being an acronym for Pathologically Eclectic Rubbish Lister\""
   ]
  },
  {
   "cell_type": "code",
   "execution_count": 96,
   "metadata": {},
   "outputs": [],
   "source": [
    "#1\n",
    "def rev_strings(x):\n",
    "    x = x.split(\" \") #split string\n",
    "    x = x[-1::-1] #reverse elements\n",
    "    y = ' '.join(x) #join to new string\n",
    "    print(y)"
   ]
  },
  {
   "cell_type": "code",
   "execution_count": 97,
   "metadata": {},
   "outputs": [
    {
     "name": "stdout",
     "output_type": "stream",
     "text": [
      "Lister Rubbish Eclectic Pathologically for acronym an being for Perl love I\n"
     ]
    }
   ],
   "source": [
    "#2\n",
    "rev_strings(s)\n"
   ]
  },
  {
   "cell_type": "code",
   "execution_count": null,
   "metadata": {},
   "outputs": [],
   "source": [
    "#3\n",
    "a = ''\n",
    "while a != 'quit':\n",
    "    a = str(input(\"type in your sentence or enter 'quit':\"))\n",
    "    rev_strings(a)"
   ]
  },
  {
   "cell_type": "markdown",
   "metadata": {},
   "source": [
    "**6 Cows and Bulls**  \n",
    "1. Implement a function which calculates the number of cows and bulls in dependence of the\n",
    "randomly chosen (but then fixed) number of the current game and a user provided number.\n",
    "2. Implement a nice interface to that function which asks for a number and reports the result.\n",
    "The code obviously requires a loop which should allow for termination.\n",
    "3. Test that the code works from the command line and test what happens, if you import the\n",
    "function from 1. which calculates number of cows and bulls."
   ]
  },
  {
   "cell_type": "code",
   "execution_count": null,
   "metadata": {},
   "outputs": [],
   "source": [
    "##### import random\n",
    "\n",
    "def compare_numbers(number, user_guess):\n",
    "    cowbull = [0,0] #cows, then bulls\n",
    "    for i in range(len(number)):\n",
    "        if number[i] == user_guess[i]:\n",
    "            cowbull[1]+=1\n",
    "        else:\n",
    "            cowbull[0]+=1\n",
    "    return cowbull\n",
    "\n",
    "if __name__==\"__main__\":\n",
    "    playing = True #gotta play the game\n",
    "    number = str(random.randint(0,9999)) #random 4 digit number\n",
    "    guesses = 0\n",
    "\n",
    "    print(\"Let's play a game of Cowbull!\") #explanation\n",
    "    print(\"I will generate a number, and you have to guess the numbers, one digit at a time.\")\n",
    "    print(\"For every number in the wrong place, you get a cow. For every one in the right place, you get a bull.\")\n",
    "    print(\"The game ends when you get 4 bulls!\")\n",
    "    print(\"Type 'exit' at any prompt to exit.\")\n",
    "\n",
    "    while playing:\n",
    "        user_guess = input(\"Give me your best guess!\")\n",
    "        if user_guess == \"exit\":\n",
    "            break\n",
    "        cowbullcount = compare_numbers(number,user_guess)\n",
    "        guesses+=1\n",
    "\n",
    "        print(\"You have \"+ str(cowbullcount[0]) + \" cows, and \" + str(cowbullcount[1]) + \" bulls.\")\n",
    "\n",
    "        if cowbullcount[1]==4:\n",
    "            playing = False\n",
    "            print(\"You win the game after \" + str(guesses) + \"! The number was \"+str(number))\n",
    "            break #redundant exit\n",
    "        else:\n",
    "            print(\"Your guess isn't quite right, try again.\")"
   ]
  },
  {
   "cell_type": "markdown",
   "metadata": {},
   "source": [
    "**7 Overlap among lists**\n",
    "1. Implement a function which accepts two lists and returns the overlap among the two lists.\n",
    "The overlap refers to all elements found in both lists.\n",
    "2. Implement the function in 1. using list comprehension.\n",
    "3. Implement a second function which determines the overlap of two lists with unique entries\n",
    "and also returns the positions of the overlap in both original lists."
   ]
  },
  {
   "cell_type": "code",
   "execution_count": 112,
   "metadata": {},
   "outputs": [],
   "source": [
    "#1\n",
    "def list_overlap(list1, list2):\n",
    "    l = list(set(list1) & set(list2))\n",
    "    return l"
   ]
  },
  {
   "cell_type": "code",
   "execution_count": 115,
   "metadata": {},
   "outputs": [],
   "source": [
    "#2\n",
    "def list_overlap2(list1, list2):\n",
    "    l = [x for x in list1 if x in list2]\n",
    "    return l"
   ]
  },
  {
   "cell_type": "code",
   "execution_count": 116,
   "metadata": {},
   "outputs": [],
   "source": [
    "a = [1,2,3,4,5,6,7,8,9]\n",
    "b = [1,3,5,7,9]"
   ]
  },
  {
   "cell_type": "code",
   "execution_count": 117,
   "metadata": {},
   "outputs": [
    {
     "data": {
      "text/plain": [
       "[1, 3, 5, 7, 9]"
      ]
     },
     "execution_count": 117,
     "metadata": {},
     "output_type": "execute_result"
    }
   ],
   "source": [
    "list_overlap(a, b)"
   ]
  },
  {
   "cell_type": "code",
   "execution_count": 118,
   "metadata": {},
   "outputs": [
    {
     "data": {
      "text/plain": [
       "[1, 3, 5, 7, 9]"
      ]
     },
     "execution_count": 118,
     "metadata": {},
     "output_type": "execute_result"
    }
   ],
   "source": [
    "list_overlap2(a, b)"
   ]
  },
  {
   "cell_type": "code",
   "execution_count": 132,
   "metadata": {},
   "outputs": [],
   "source": [
    "#3\n",
    "def overlap_positions(list1, list2):\n",
    "    for counter, value in enumerate(list1):\n",
    "        if value in list2:\n",
    "            print(counter, value)\n",
    "    for counter, value in enumerate(list2):\n",
    "        if value in list1:\n",
    "            print(counter, value)"
   ]
  },
  {
   "cell_type": "code",
   "execution_count": 133,
   "metadata": {},
   "outputs": [
    {
     "name": "stdout",
     "output_type": "stream",
     "text": [
      "0 1\n",
      "1 3\n",
      "2 5\n",
      "3 7\n",
      "4 9\n",
      "0 1\n",
      "2 3\n",
      "4 5\n",
      "6 7\n",
      "8 9\n"
     ]
    }
   ],
   "source": [
    "overlap_positions(b, a)"
   ]
  },
  {
   "cell_type": "markdown",
   "metadata": {},
   "source": [
    "**8 Functional programming**\n",
    "1. Implement a function which converts all characters in a string to upper case. (a→A etc.)\n",
    "2. Implement a function which calculates the sum of entries in a list.\n",
    "3. Implement a function which calculates the log factorial of an integer number."
   ]
  },
  {
   "cell_type": "code",
   "execution_count": 18,
   "metadata": {},
   "outputs": [],
   "source": [
    "#1\n",
    "def upper_case(string):\n",
    "    return string.upper()"
   ]
  },
  {
   "cell_type": "code",
   "execution_count": 19,
   "metadata": {},
   "outputs": [
    {
     "data": {
      "text/plain": [
       "'LDKJFLKD'"
      ]
     },
     "execution_count": 19,
     "metadata": {},
     "output_type": "execute_result"
    }
   ],
   "source": [
    "s = \"ldkjflkd\"\n",
    "upper_case(s)"
   ]
  },
  {
   "cell_type": "code",
   "execution_count": 21,
   "metadata": {},
   "outputs": [],
   "source": [
    "#2\n",
    "def sum_of_entries(list1):\n",
    "    return sum(list1)"
   ]
  },
  {
   "cell_type": "code",
   "execution_count": 23,
   "metadata": {},
   "outputs": [
    {
     "data": {
      "text/plain": [
       "15"
      ]
     },
     "execution_count": 23,
     "metadata": {},
     "output_type": "execute_result"
    }
   ],
   "source": [
    "l = [1,2,3,4,5]\n",
    "sum_of_entries(l)"
   ]
  },
  {
   "cell_type": "code",
   "execution_count": 36,
   "metadata": {},
   "outputs": [],
   "source": [
    "#3\n",
    "import math\n",
    "\n",
    "def log_factorial(num):\n",
    "    a = 1\n",
    "    for i in range(2, num + 1):\n",
    "        a *= i\n",
    "    return(math.log(a))"
   ]
  },
  {
   "cell_type": "code",
   "execution_count": 37,
   "metadata": {},
   "outputs": [
    {
     "data": {
      "text/plain": [
       "4.787491742782046"
      ]
     },
     "execution_count": 37,
     "metadata": {},
     "output_type": "execute_result"
    }
   ],
   "source": [
    "log_factorial(5)"
   ]
  }
 ],
 "metadata": {
  "kernelspec": {
   "display_name": "Python 3",
   "language": "python",
   "name": "python3"
  },
  "language_info": {
   "codemirror_mode": {
    "name": "ipython",
    "version": 3
   },
   "file_extension": ".py",
   "mimetype": "text/x-python",
   "name": "python",
   "nbconvert_exporter": "python",
   "pygments_lexer": "ipython3",
   "version": "3.7.3"
  }
 },
 "nbformat": 4,
 "nbformat_minor": 4
}
